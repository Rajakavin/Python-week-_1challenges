{
 "cells": [
  {
   "cell_type": "markdown",
   "id": "ac3cd779",
   "metadata": {},
   "source": [
    "# Q1"
   ]
  },
  {
   "cell_type": "code",
   "execution_count": 29,
   "id": "3b829a12",
   "metadata": {},
   "outputs": [
    {
     "name": "stdout",
     "output_type": "stream",
     "text": [
      " this is single line string:  Hello World!\n",
      "this is multiple line string:  \n",
      "      this is muliple line string \n",
      "      we can able to write mulitiple line of string\n",
      "\n",
      "strings are immutable we cannot change the value of the string\n"
     ]
    }
   ],
   "source": [
    "# single line string \n",
    "str1='Hello World!'\n",
    "str1.replace(\"H\",\"k\")#here the replace(keyword) can't change the str value\n",
    "# multiple line string\n",
    "str2='''\n",
    "      this is muliple line string \n",
    "      we can able to write mulitiple line of string\n",
    "'''\n",
    "#lets print the two strings\n",
    "print(\" this is single line string: \",str1)\n",
    "print(\"this is multiple line string: \",str2)\n",
    "#string value cannot be change after the string has been created\n",
    "print(\"strings are immutable we cannot change the value of the string\")\n",
    "\n",
    "\n",
    "\n",
    "\n"
   ]
  },
  {
   "cell_type": "markdown",
   "id": "34ccf306",
   "metadata": {},
   "source": [
    "# Q2"
   ]
  },
  {
   "cell_type": "code",
   "execution_count": 52,
   "id": "d819ef97",
   "metadata": {},
   "outputs": [
    {
     "name": "stdout",
     "output_type": "stream",
     "text": [
      "H W\n",
      "o o\n",
      "llorld\n",
      "!dlroW olleH\n",
      "World!\n",
      "Hello \n"
     ]
    }
   ],
   "source": [
    "str_1='Hello World!'\n",
    "print(str_1[0],str1[6])\n",
    "print(str_1[4],str_1[7])\n",
    "print(str_1[2:5]+str_1[8:11])\n",
    "print(str_1[::-1])\n",
    "print(str_1[6:12])\n",
    "print(str_1[0:6])"
   ]
  },
  {
   "cell_type": "markdown",
   "id": "3a3d4629",
   "metadata": {},
   "source": [
    "# Q3\n"
   ]
  },
  {
   "cell_type": "code",
   "execution_count": 7,
   "id": "e3812b33",
   "metadata": {},
   "outputs": [
    {
     "name": "stdout",
     "output_type": "stream",
     "text": [
      "the alphabetic letter is: True\n",
      "the lowercase letter is: False\n",
      "the uppercase letter is: False\n",
      "Welcome the alphanumeric is: True\n",
      "the alphabetic letter is: False\n",
      "the lowercase letter is: False\n",
      "the uppercase letter is: False\n",
      "the alphabetic letter is: True\n",
      "the lowercase letter is: False\n",
      "the uppercase letter is: False\n",
      "the sentence starts with: True\n",
      "the sentence ends with: False\n",
      "the alphanumeric is: True\n",
      "the digits is: True\n",
      "the alphanumeric is: False\n",
      "the digits is: False\n"
     ]
    }
   ],
   "source": [
    "str1 = 'Welcome'\n",
    "print('the alphabetic letter is:',str1.isalpha())\n",
    "print('the lowercase letter is:',str1.islower())\n",
    "print('the uppercase letter is:',str1.isupper())\n",
    "print(str1,'the alphanumeric is:',str1.isalnum())\n",
    "\n",
    "\n",
    "str2 = 'Hello World!'\n",
    "print('the alphabetic letter is:',str2.isalpha())\n",
    "print('the lowercase letter is:',str2.islower())\n",
    "print('the uppercase letter is:',str2.isupper())\n",
    "\n",
    "\n",
    "str3 = 'Now is the best time ever!'\n",
    "print('the alphabetic letter is:',str1.isalpha())\n",
    "print('the lowercase letter is:',str1.islower())\n",
    "print('the uppercase letter is:',str1.isupper())\n",
    "print('the sentence starts with:',str3.startswith('Now'))\n",
    "print('the sentence ends with:',str3.endswith('Now'))\n",
    "\n",
    "str4 ='500017'\n",
    "print('the alphanumeric is:',str4.isalnum())\n",
    "print('the digits is:',str4.isdigit())\n",
    "\n",
    "\n",
    "str5 = 'Iphone 6'\n",
    "print('the alphanumeric is:',str5.isalnum())\n",
    "print('the digits is:',str5.isdigit())"
   ]
  },
  {
   "cell_type": "markdown",
   "id": "8ac7baf5",
   "metadata": {},
   "source": [
    "# Q4"
   ]
  },
  {
   "cell_type": "code",
   "execution_count": 9,
   "id": "e067c8d5",
   "metadata": {},
   "outputs": [
    {
     "name": "stdout",
     "output_type": "stream",
     "text": [
      "enter your own senence: hello\n",
      "the title of sentence is :  Hello\n"
     ]
    }
   ],
   "source": [
    "string=input(\"enter your own senence: \")\n",
    "print(\"the title of sentence is : \",string.title())#the title (keyword change the first letter as in upper case)"
   ]
  },
  {
   "cell_type": "markdown",
   "id": "9bd9f771",
   "metadata": {},
   "source": [
    "# Q5"
   ]
  },
  {
   "cell_type": "code",
   "execution_count": 20,
   "id": "26504ecf",
   "metadata": {},
   "outputs": [
    {
     "name": "stdout",
     "output_type": "stream",
     "text": [
      "enter the number1: 1\n",
      "the given number is odd\n"
     ]
    }
   ],
   "source": [
    "num=int(input(\"enter the number1: \"))\n",
    "if num%2==0:\n",
    "    print(\"the given number is even\")\n",
    "else:\n",
    "    print(\"the given number is odd\")"
   ]
  },
  {
   "cell_type": "markdown",
   "id": "6beb9219",
   "metadata": {},
   "source": [
    "# Q6"
   ]
  },
  {
   "cell_type": "code",
   "execution_count": 3,
   "id": "80c050e4",
   "metadata": {},
   "outputs": [
    {
     "name": "stdout",
     "output_type": "stream",
     "text": [
      "enter the alphabet: e\n",
      "the given alphabet is vowels\n"
     ]
    }
   ],
   "source": [
    "x1=str(input(\"enter the alphabet: \"))\n",
    "if x1==\"a\" or x1==\"e\" or x1==\"i\" or x1==\"o\" or x1==\"u\":\n",
    "    print(\"the given alphabet is vowels\")\n",
    "else:\n",
    "    print(\"the given alphabet is consonants \")"
   ]
  },
  {
   "cell_type": "markdown",
   "id": "b69aaee3",
   "metadata": {},
   "source": [
    "# Q7"
   ]
  },
  {
   "cell_type": "code",
   "execution_count": 4,
   "id": "7d5229dd",
   "metadata": {},
   "outputs": [
    {
     "name": "stdout",
     "output_type": "stream",
     "text": [
      "enter the name of the month :january\n",
      "this month falls in 31 days\n"
     ]
    }
   ],
   "source": [
    "month=input('enter the name of the month :')\n",
    "if month =='january' or month=='march' or month=='may' or month=='july' or month=='august' or month=='october' or month=='december':\n",
    "  print('this month falls in 31 days')\n",
    "elif month == 'april' or month=='june' or month=='september' or month=='november':\n",
    "     print('this month falls in 30 days')\n",
    "elif month=='february':\n",
    "  print ('this falls in 28 days or 29 days')\n",
    "else:\n",
    "    print('this is not a month')"
   ]
  },
  {
   "cell_type": "markdown",
   "id": "572be937",
   "metadata": {},
   "source": [
    "# Q8"
   ]
  },
  {
   "cell_type": "code",
   "execution_count": 1,
   "id": "02e1798e",
   "metadata": {},
   "outputs": [
    {
     "name": "stdout",
     "output_type": "stream",
     "text": [
      "Enter the value of A side triangle :7\n",
      "Enter the value of B side triangle :7\n",
      "Enter the value of C side triangle :7\n",
      " All 3 sides of an equilateral triangle have the same length\n"
     ]
    }
   ],
   "source": [
    "A=input('Enter the value of A side triangle :')\n",
    "B=input('Enter the value of B side triangle :')\n",
    "C=input('Enter the value of C side triangle :')\n",
    "if A==B and B==C and A==C:\n",
    "   print(' All 3 sides of an equilateral triangle have the same length')\n",
    "else:\n",
    "    if A==B and B==C or A==C:\n",
    "       print('An isosceles triangle has two sides that are the same length')\n",
    "    else:\n",
    "      print(' If all of the sides have different lengths then the triangle is scalene')"
   ]
  },
  {
   "cell_type": "markdown",
   "id": "5e8b8067",
   "metadata": {},
   "source": [
    "# Q9\n"
   ]
  },
  {
   "cell_type": "code",
   "execution_count": 8,
   "id": "6c00ce21",
   "metadata": {},
   "outputs": [
    {
     "name": "stdout",
     "output_type": "stream",
     "text": [
      "Enter a year :2024\n",
      "2024 the remaining years, any year that is divisible by 4 is a leap year\n"
     ]
    }
   ],
   "source": [
    "year=int(input('Enter a year :'))\n",
    "if year%400==0:\n",
    "   print(year,'Any year that is divisble by 400 is leap year')\n",
    "elif year%100==0:\n",
    "   print(year,'Of the remaining years, any year that is divisible by 100 is not a leap year')\n",
    "elif year%4==0:\n",
    "   print(year,'the remaining years, any year that is divisible by 4 is a leap year')\n",
    "else:\n",
    "   print(year,('All other years are not leap years'))"
   ]
  },
  {
   "cell_type": "markdown",
   "id": "4f450bbf",
   "metadata": {},
   "source": [
    "# Q10"
   ]
  },
  {
   "cell_type": "code",
   "execution_count": 1,
   "id": "4058bf8d",
   "metadata": {},
   "outputs": [
    {
     "name": "stdout",
     "output_type": "stream",
     "text": [
      "enter the value of a :3\n",
      "enter the value of b :6\n",
      "enter the value of c :9\n",
      "values are not real root\n"
     ]
    }
   ],
   "source": [
    "a=input('enter the value of a :')\n",
    "b=input('enter the value of b :')\n",
    "c=input('enter the value of c :')\n",
    "x=3\n",
    "if a*x**2+b*x+c==0:\n",
    "  print('the real roots')\n",
    "else:\n",
    "   print('values are not real root')"
   ]
  },
  {
   "cell_type": "code",
   "execution_count": null,
   "id": "7ef59b13",
   "metadata": {},
   "outputs": [],
   "source": []
  },
  {
   "cell_type": "code",
   "execution_count": null,
   "id": "6752d0fe",
   "metadata": {},
   "outputs": [],
   "source": []
  }
 ],
 "metadata": {
  "kernelspec": {
   "display_name": "Python 3 (ipykernel)",
   "language": "python",
   "name": "python3"
  },
  "language_info": {
   "codemirror_mode": {
    "name": "ipython",
    "version": 3
   },
   "file_extension": ".py",
   "mimetype": "text/x-python",
   "name": "python",
   "nbconvert_exporter": "python",
   "pygments_lexer": "ipython3",
   "version": "3.9.12"
  }
 },
 "nbformat": 4,
 "nbformat_minor": 5
}
