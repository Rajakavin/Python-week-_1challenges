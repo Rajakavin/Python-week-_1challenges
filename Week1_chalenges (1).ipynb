{
 "cells": [
  {
   "cell_type": "markdown",
   "id": "492d838a",
   "metadata": {},
   "source": [
    "# Q1"
   ]
  },
  {
   "cell_type": "code",
   "execution_count": 2,
   "id": "1d8c1ff8",
   "metadata": {},
   "outputs": [
    {
     "name": "stdout",
     "output_type": "stream",
     "text": [
      "NAME: KAVINS A\n",
      "MAIL ID:rajakavin32kc@gmail.com\n"
     ]
    }
   ],
   "source": [
    "#To display name and mail id \n",
    "print(\"NAME: KAVINS A\")\n",
    "print(\"MAIL ID:rajakavin32kc@gmail.com\")"
   ]
  },
  {
   "cell_type": "markdown",
   "id": "e455822e",
   "metadata": {},
   "source": [
    "# Q2"
   ]
  },
  {
   "cell_type": "code",
   "execution_count": 3,
   "id": "d2816eb2",
   "metadata": {},
   "outputs": [
    {
     "name": "stdout",
     "output_type": "stream",
     "text": [
      "Enter your name:kavins A\n",
      "Hello kavins A\n"
     ]
    }
   ],
   "source": [
    "#get the name from the user and display with \"Hello\" greetings\n",
    "x=input(\"Enter your name:\")\n",
    "print(\"Hello\",x)"
   ]
  },
  {
   "cell_type": "markdown",
   "id": "24caba0c",
   "metadata": {},
   "source": [
    "# Q3"
   ]
  },
  {
   "cell_type": "code",
   "execution_count": 6,
   "id": "53037f3e",
   "metadata": {},
   "outputs": [
    {
     "name": "stdout",
     "output_type": "stream",
     "text": [
      "Enter the radius of the circle:6\n",
      "Area of the circle is :  113.03999999999999\n",
      "circumfrence of the circle is:  37.68\n"
     ]
    }
   ],
   "source": [
    "pi=3.14 #i just specify that pi which is equal to the value of 3.14\n",
    "Radius=float(input(\"Enter the radius of the circle:\")) #with the help of float keyword the user can able to give their values in floating points\n",
    "area=pi*Radius*Radius\n",
    "print(\"Area of the circle is : \",area)\n",
    "circum=2*pi*Radius\n",
    "print(\"circumfrence of the circle is: \",circum)\n"
   ]
  },
  {
   "cell_type": "markdown",
   "id": "3263df2c",
   "metadata": {},
   "source": [
    "# Q4\n"
   ]
  },
  {
   "cell_type": "code",
   "execution_count": 7,
   "id": "7cadbd6c",
   "metadata": {},
   "outputs": [
    {
     "name": "stdout",
     "output_type": "stream",
     "text": [
      "Enter the length: 5\n",
      "Enter the breadth:4\n",
      "Area of the rectangle :  20.0\n",
      "perimeter of the rectangle:  18.0\n"
     ]
    }
   ],
   "source": [
    "#To find area and perimeter of the rectangle\n",
    "l=float(input(\"Enter the length: \")) #with the help of float keyword the user can able to give their values in floating points\n",
    "b=float(input(\"Enter the breadth:\"))\n",
    "area=l*b\n",
    "perimeter=2*(l+b)\n",
    "print(\"Area of the rectangle : \",area)\n",
    "print(\"perimeter of the rectangle: \",perimeter)\n",
    "\n"
   ]
  },
  {
   "cell_type": "markdown",
   "id": "97d61f1b",
   "metadata": {},
   "source": [
    "# Q5"
   ]
  },
  {
   "cell_type": "code",
   "execution_count": 9,
   "id": "086c2a6f",
   "metadata": {},
   "outputs": [
    {
     "name": "stdout",
     "output_type": "stream",
     "text": [
      "sides: 6\n",
      "Area of the square:  36.0\n",
      "perimeter of the square:  24.0\n"
     ]
    }
   ],
   "source": [
    "#To find the area and perimeter of the square\n",
    "s=float(input(\"sides: \"))\n",
    "area=s*s #area is equal to side square\n",
    "perimeter=4*s\n",
    "print(\"Area of the square: \",area)\n",
    "print(\"perimeter of the square: \",perimeter)\n"
   ]
  },
  {
   "cell_type": "markdown",
   "id": "3499581d",
   "metadata": {},
   "source": [
    "# Q6"
   ]
  },
  {
   "cell_type": "code",
   "execution_count": 15,
   "id": "e7285b86",
   "metadata": {},
   "outputs": [
    {
     "name": "stdout",
     "output_type": "stream",
     "text": [
      "40.00 celsius = 104.00 fahrenheit \n",
      "104.00 fahrenheit = 40.00 celsius \n"
     ]
    }
   ],
   "source": [
    "#accept the temprature in fahrenheit and convert into celsius and its vice versa\n",
    "#initially we are going to give the celsius value to find fahrenheit \n",
    "celsius=40\n",
    "fahrenheit=(celsius*1.8)+32\n",
    "print(\"%.2f celsius = %.2f fahrenheit \" %(celsius,fahrenheit))\n",
    "#similarlly we are going to find fahrenhit into celsius\n",
    "fahrenheit=104\n",
    "celsius=(fahrenheit-32)/1.8\n",
    "print(\"%.2f fahrenheit = %.2f celsius \" %(fahrenheit,celsius))\n",
    "\n"
   ]
  },
  {
   "cell_type": "markdown",
   "id": "2c9083f5",
   "metadata": {},
   "source": [
    "# Q7"
   ]
  },
  {
   "cell_type": "code",
   "execution_count": 19,
   "id": "84f352e5",
   "metadata": {},
   "outputs": [
    {
     "name": "stdout",
     "output_type": "stream",
     "text": [
      "sum of complex num is :  (22+5j)\n",
      "sub of complex num is :  (-2+11j)\n",
      "mul of complex num is :  (144+66j)\n"
     ]
    }
   ],
   "source": [
    "#Perform addition, subtraction and multiplication using two complex numbers\n",
    "a=10+8j\n",
    "b=12-3j\n",
    "#addition \n",
    "sum=a+b\n",
    "print(\"sum of complex num is : \",sum)\n",
    "#subraction\n",
    "sub=a-b\n",
    "print(\"sub of complex num is : \",sub)\n",
    "#multipliction\n",
    "mul=a*b\n",
    "print(\"mul of complex num is : \",mul)\n",
    "\n",
    "\n",
    "\n",
    "\n",
    "\n",
    "\n",
    "\n"
   ]
  },
  {
   "cell_type": "markdown",
   "id": "72e111ee",
   "metadata": {},
   "source": [
    "# Q8"
   ]
  },
  {
   "cell_type": "code",
   "execution_count": 23,
   "id": "2f0da5ee",
   "metadata": {},
   "outputs": [
    {
     "name": "stdout",
     "output_type": "stream",
     "text": [
      "Enter the name: kavins A\n",
      "Enter the basic salary: 80000\n",
      "the gross salary is :  128000.0\n"
     ]
    }
   ],
   "source": [
    "#Display the gross salary of the user\n",
    "name=str(input(\"Enter the name: \"))\n",
    "basic=float(input(\"Enter the basic salary: \"))\n",
    "Da=float(basic*0.40)\n",
    "hra=float(basic*0.20)\n",
    "Gross_salary=(basic+Da+hra)\n",
    "print(\"the gross salary is : \",Gross_salary)\n",
    "\n"
   ]
  },
  {
   "cell_type": "markdown",
   "id": "a200f276",
   "metadata": {},
   "source": [
    "# Q9"
   ]
  },
  {
   "cell_type": "code",
   "execution_count": 1,
   "id": "c0a46ac4",
   "metadata": {},
   "outputs": [
    {
     "name": "stdout",
     "output_type": "stream",
     "text": [
      "Enter the positive integers: 4\n",
      "the sum of first 4 positve integer is:  10.0\n"
     ]
    }
   ],
   "source": [
    "\n",
    "n=int(input(\"Enter the positive integers: \"))\n",
    "sum_tot=(n*(n+1))/2\n",
    "print(\"the sum of first\",n,\"positve integer is: \",sum_tot)\n",
    "\n",
    "\n",
    "\n",
    "\n",
    "\n"
   ]
  },
  {
   "cell_type": "markdown",
   "id": "57133cb0",
   "metadata": {},
   "source": [
    "# Q10"
   ]
  },
  {
   "cell_type": "code",
   "execution_count": 2,
   "id": "42ad6e4d",
   "metadata": {},
   "outputs": [
    {
     "name": "stdout",
     "output_type": "stream",
     "text": [
      "Enter the num1: 94\n",
      "Enter the num2: 6\n",
      "sum of a and b:  100\n",
      "the difference is:  -88\n",
      "The product of a and b:  564\n",
      "The quotient when a is divided by b:  15\n",
      "The remainder when a is divided by b:  4\n",
      "The result of a^b:  689869781056\n"
     ]
    }
   ],
   "source": [
    "#Create a program that reads two integers, a and b, from the user.and perform some operations\n",
    "a=int(input(\"Enter the num1: \"))\n",
    "b=int(input(\"Enter the num2: \"))\n",
    "#now we need to perform some certain operations given in our problem\n",
    "#sum of a and b\n",
    "sum=a+b\n",
    "print(\"sum of a and b: \",sum)\n",
    "#The difference when b is subtracted from a\n",
    "sub=b-a\n",
    "print(\"the difference is: \",sub)\n",
    "#The product of a and b\n",
    "mul=a*b\n",
    "print(\"The product of a and b: \",mul)\n",
    "#The quotient when a is divided by b\n",
    "remainder=a//b\n",
    "print(\"The quotient when a is divided by b: \",remainder)\n",
    "#The remainder when a is divided by b\n",
    "div=a%b\n",
    "print(\"The remainder when a is divided by b: \",div)\n",
    "#The result of a^b\n",
    "pow=a**b\n",
    "print(\"The result of a^b: \",pow)"
   ]
  },
  {
   "cell_type": "code",
   "execution_count": null,
   "id": "e68c6477",
   "metadata": {},
   "outputs": [],
   "source": []
  },
  {
   "cell_type": "code",
   "execution_count": null,
   "id": "f6ebeed0",
   "metadata": {},
   "outputs": [],
   "source": []
  },
  {
   "cell_type": "code",
   "execution_count": null,
   "id": "895dee1f",
   "metadata": {},
   "outputs": [],
   "source": []
  }
 ],
 "metadata": {
  "kernelspec": {
   "display_name": "Python 3 (ipykernel)",
   "language": "python",
   "name": "python3"
  },
  "language_info": {
   "codemirror_mode": {
    "name": "ipython",
    "version": 3
   },
   "file_extension": ".py",
   "mimetype": "text/x-python",
   "name": "python",
   "nbconvert_exporter": "python",
   "pygments_lexer": "ipython3",
   "version": "3.9.12"
  }
 },
 "nbformat": 4,
 "nbformat_minor": 5
}
